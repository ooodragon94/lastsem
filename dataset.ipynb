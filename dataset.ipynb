{
 "cells": [
  {
   "cell_type": "code",
   "execution_count": 18,
   "metadata": {
    "scrolled": true
   },
   "outputs": [],
   "source": [
    "import csv\n",
    "import numpy as np\n",
    "import serial\n",
    "import os\n",
    "import ast"
   ]
  },
  {
   "cell_type": "code",
   "execution_count": 1,
   "metadata": {},
   "outputs": [],
   "source": [
    "def startCollecting(num_classes = 4, data_num = 4, time = 5, how_many = 50):\n",
    "    global data, data_gt, shuffle_map, test_begin_idx, output_cnt\n",
    "    class_num = 0\n",
    "    cnt = 0\n",
    "    os.system('say hello everyone nice to meet you')\n",
    "    data_gt = np.zeros(num_classes*how_many*time,)\n",
    "    if os.path.exists('./beacon_data.csv') :\n",
    "        print('file exists. Loading...')\n",
    "        data = []\n",
    "        with open('./beacon_data.csv') as csvfile:\n",
    "            csvreader = csv.reader(csvfile)\n",
    "            cnt = 0\n",
    "            for row in csvreader:\n",
    "                data_gt[cnt] = int(float(row[0]))\n",
    "                row[1] = row[1].replace(' \\n', ',').replace('      ',',').replace('     ',',').replace('    ',',').replace('   ',',').replace('  ',',').replace(' ', ',')\n",
    "                row[1] = ast.literal_eval(row[1])\n",
    "                data.append(row[1])\n",
    "                cnt += 1\n",
    "        data = np.array(data)\n",
    "        print('loading complete')\n",
    "    else:\n",
    "        print('collecting data from serial...')\n",
    "        data = np.zeros([num_classes*how_many, time, data_num])\n",
    "        n_c=0\n",
    "        n_h=0\n",
    "        t=0\n",
    "        with open('./beacon_data.csv', 'w') as csvfile:\n",
    "            csvwriter = csv.writer(csvfile)\n",
    "            for n_c in range(num_classes): #4\n",
    "                print('collecting data for class {}'.format(n_c))\n",
    "                print('loading bar:', end='')\n",
    "                [print('*'*i, end='') for i in range(5)]\n",
    "                for n_h in range(how_many): #50\n",
    "                    data_gt[n_c + n_h] = n_c\n",
    "                    for t in range(time): #5\n",
    "                        tmp = start_serial()\n",
    "                        print(tmp)\n",
    "                        tmp = np.fromstring(tmp, dtype=float, sep=\",\")\n",
    "                        print(tmp)\n",
    "                        data[n_c + n_h][t] = tmp #size = (data_num,)\n",
    "                    csvwriter.writerow([data_gt[n_c + n_h],data[n_c + n_h]])\n",
    "        print('collecting completed')\n",
    "    \n",
    "\n",
    "    return data, data_gt"
   ]
  },
  {
   "cell_type": "code",
   "execution_count": 34,
   "metadata": {
    "scrolled": true
   },
   "outputs": [
    {
     "name": "stdout",
     "output_type": "stream",
     "text": [
      "file exists. Loading...\n",
      "loading complete\n"
     ]
    }
   ],
   "source": [
    "data = startCollecting()"
   ]
  },
  {
   "cell_type": "code",
   "execution_count": 3,
   "metadata": {},
   "outputs": [],
   "source": [
    "def arrange_data(mb_size=1):\n",
    "    #shuffles data and returns step count -> used for test idx\n",
    "    #mb = minibatch size\n",
    "    global data, shuffle_map, test_begin_idx, output_cnt\n",
    "    shuffle_map = np.arange(data.shape[0])\n",
    "    np.random.shuffle(shuffle_map)\n",
    "    step_count = int(data.shape[0] * 0.8) // mb_size\n",
    "    test_begin_idx = step_count * mb_size\n",
    "    return step_count\n",
    "\n",
    "def get_test_data():\n",
    "    global data, shuffle_map, test_begin_idx, output_cnt\n",
    "    test_data = data[shuffle_map[test_begin_idx:]]\n",
    "    test_data_gt = data_gt[shuffle_map[test_begin_idx:]]\n",
    "    return test_data, test_data_gt\n",
    "\n",
    "def get_train_data(mb_size=1):\n",
    "    #if nth == 0:\n",
    "        #np.random.shuffle(shuffle_map[:test_begin_idx])\n",
    "    #train_data = data[shuffle_map[mb_size*nth:mb_size*(nth+1)]]\n",
    "    train_data = data[shuffle_map[:test_begin_idx]]\n",
    "    train_data_gt = data_gt[shuffle_map[:test_begin_idx]]\n",
    "    return train_data, train_data_gt"
   ]
  },
  {
   "cell_type": "code",
   "execution_count": 4,
   "metadata": {},
   "outputs": [],
   "source": [
    "def start_serial():\n",
    "    with serial.Serial('/dev/ttyACM0', 9600) as ser:\n",
    "        print(ser.readline())\n",
    "        return ser.readline()"
   ]
  }
 ],
 "metadata": {
  "kernelspec": {
   "display_name": "Python 3",
   "language": "python",
   "name": "python3"
  },
  "language_info": {
   "codemirror_mode": {
    "name": "ipython",
    "version": 3
   },
   "file_extension": ".py",
   "mimetype": "text/x-python",
   "name": "python",
   "nbconvert_exporter": "python",
   "pygments_lexer": "ipython3",
   "version": "3.7.3"
  }
 },
 "nbformat": 4,
 "nbformat_minor": 2
}

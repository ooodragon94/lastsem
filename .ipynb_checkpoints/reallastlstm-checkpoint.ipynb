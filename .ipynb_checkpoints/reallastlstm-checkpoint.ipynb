{
 "cells": [
  {
   "cell_type": "code",
   "execution_count": 1,
   "metadata": {},
   "outputs": [],
   "source": [
    "import torch\n",
    "import torch.nn as nn\n",
    "import torchvision.transforms as transforms\n",
    "import torchvision.datasets as dsets\n",
    "from dataset import *"
   ]
  },
  {
   "cell_type": "code",
   "execution_count": 2,
   "metadata": {},
   "outputs": [
    {
     "name": "stdout",
     "output_type": "stream",
     "text": [
      "file exists. Loading...\n",
      "loading complete\n"
     ]
    },
    {
     "data": {
      "text/plain": [
       "160"
      ]
     },
     "execution_count": 2,
     "metadata": {},
     "output_type": "execute_result"
    }
   ],
   "source": [
    "startCollecting()\n",
    "arrange_data()"
   ]
  },
  {
   "cell_type": "code",
   "execution_count": 3,
   "metadata": {},
   "outputs": [
    {
     "name": "stdout",
     "output_type": "stream",
     "text": [
      "using gpu...\n"
     ]
    }
   ],
   "source": [
    "device = None\n",
    "if torch.cuda.is_available():\n",
    "    device = torch.device('cuda:0')\n",
    "    print('using gpu...')\n",
    "else:\n",
    "    device = torch.device('cpu')\n",
    "    print('using cpu...')"
   ]
  },
  {
   "cell_type": "code",
   "execution_count": 4,
   "metadata": {},
   "outputs": [
    {
     "name": "stdout",
     "output_type": "stream",
     "text": [
      "torch.Size([160, 5, 4]) torch.Size([160])\n",
      "torch.Size([40, 5, 4]) torch.Size([40])\n",
      "tensor([2., 0., 0., 0., 1., 0., 2., 3., 2., 2., 3., 2., 1., 3., 0., 3., 3., 3.,\n",
      "        2., 0., 0., 2., 3., 2., 3., 2., 0., 3., 2., 0., 1., 1., 3., 3., 0., 1.,\n",
      "        0., 0., 0., 2.], dtype=torch.float64)\n"
     ]
    }
   ],
   "source": [
    "train_data, train_data_gt = get_train_data()\n",
    "train_data = torch.from_numpy(train_data)\n",
    "train_data_gt = torch.from_numpy(train_data_gt)\n",
    "print(train_data.shape, train_data_gt.shape)\n",
    "test_data, test_data_gt = get_test_data()\n",
    "test_data = torch.from_numpy(test_data)\n",
    "test_data_gt = torch.from_numpy(test_data_gt)\n",
    "print(test_data.shape, test_data_gt.shape)\n",
    "print(test_data_gt)"
   ]
  },
  {
   "cell_type": "code",
   "execution_count": 5,
   "metadata": {},
   "outputs": [],
   "source": [
    "class Dataset:# Initialize your data, download, etc. \n",
    "    def __init__(self, data, data_gt):\n",
    "        self.len = data_gt.shape[0] \n",
    "        self.x_data = data \n",
    "        self.y_data = data_gt\n",
    "    def __getitem__(self, index): \n",
    "        return self.x_data[index], self.y_data[index] \n",
    "    def __len__(self): \n",
    "        return self.len\n",
    "\n",
    "train_dataset = Dataset(train_data, train_data_gt)\n",
    "test_dataset = Dataset(test_data, test_data_gt)"
   ]
  },
  {
   "cell_type": "code",
   "execution_count": 6,
   "metadata": {},
   "outputs": [],
   "source": [
    "batch_size = 1\n",
    "n_iters = 1000000\n",
    "num_epochs = n_iters / (len(train_data_gt) / batch_size)\n",
    "num_epochs = int(num_epochs)\n",
    "\n",
    "train_loader = torch.utils.data.DataLoader(dataset=train_dataset, \n",
    "                                           batch_size=batch_size, \n",
    "                                           shuffle=True)\n",
    "\n",
    "test_loader = torch.utils.data.DataLoader(dataset=test_dataset, \n",
    "                                          batch_size=batch_size, \n",
    "                                          shuffle=False)"
   ]
  },
  {
   "cell_type": "code",
   "execution_count": 7,
   "metadata": {},
   "outputs": [],
   "source": [
    "class LSTMModel(nn.Module):\n",
    "    def __init__(self, input_dim, hidden_dim, layer_dim, output_dim):\n",
    "        super(LSTMModel, self).__init__()\n",
    "        self.hidden_dim = hidden_dim\n",
    "        self.layer_dim = layer_dim\n",
    "        self.lstm = nn.LSTM(input_dim, hidden_dim, layer_dim, batch_first=True)\n",
    "        self.fc = nn.Linear(hidden_dim, output_dim)\n",
    "\n",
    "    def forward(self, x):\n",
    "        h0 = torch.zeros(self.layer_dim, x.size(0), self.hidden_dim).requires_grad_().to(device)\n",
    "        c0 = torch.zeros(self.layer_dim, x.size(0), self.hidden_dim).requires_grad_().to(device)\n",
    "        # 28 time steps\n",
    "        # We need to detach as we are doing truncated backpropagation through time (BPTT)\n",
    "        # If we don't, we'll backprop all the way to the start even after going through another batch\n",
    "        out, (hn, cn) = self.lstm(x, (h0.detach(), c0.detach()))\n",
    "        # Index hidden state of last time step\n",
    "        # out.size() --> 100, 28, 100\n",
    "        # out[:, -1, :] --> 100, 100 --> just want last time step hidden states! \n",
    "        out = self.fc(out[:, -1, :]) \n",
    "        # out.size() --> 100, 10\n",
    "        return out"
   ]
  },
  {
   "cell_type": "code",
   "execution_count": 8,
   "metadata": {},
   "outputs": [],
   "source": [
    "input_dim = 4 \n",
    "hidden_dim = 100\n",
    "layer_dim = 1\n",
    "output_dim = 4 # class no."
   ]
  },
  {
   "cell_type": "code",
   "execution_count": null,
   "metadata": {},
   "outputs": [],
   "source": [
    "model = LSTMModel(input_dim, hidden_dim, layer_dim, output_dim).to(device)"
   ]
  },
  {
   "cell_type": "code",
   "execution_count": null,
   "metadata": {},
   "outputs": [],
   "source": [
    "criterion = nn.CrossEntropyLoss()"
   ]
  },
  {
   "cell_type": "code",
   "execution_count": null,
   "metadata": {},
   "outputs": [],
   "source": [
    "learning_rate = 0.001\n",
    "optimizer = torch.optim.Adam(model.parameters(), lr=learning_rate)  "
   ]
  },
  {
   "cell_type": "code",
   "execution_count": null,
   "metadata": {
    "scrolled": true
   },
   "outputs": [],
   "source": [
    "seq_dim = 5  \n",
    "model_path = './lastsem.ckpt'\n",
    "'''\n",
    "if os.path.exists(model_path):\n",
    "    print('Model exists')\n",
    "    print('Loading...')\n",
    "    model = torch.load(model_path)\n",
    "'''\n",
    "iter = 0\n",
    "for epoch in range(num_epochs):\n",
    "    for i, (x, y) in enumerate(train_loader):\n",
    "        x = x.view(-1, seq_dim, input_dim).requires_grad_().float().to(device)\n",
    "        y = y.long().to(device)\n",
    "        optimizer.zero_grad()\n",
    "        outputs = model(x)\n",
    "        loss = criterion(outputs, y)\n",
    "        loss.backward()\n",
    "        optimizer.step()\n",
    "        iter += 1\n",
    "        if iter % 500 == 0:\n",
    "            max_ = 0\n",
    "            correct = 0\n",
    "            total = 0\n",
    "            # Iterate through test dataset\n",
    "            for x, y in test_loader:\n",
    "                x = x.view(-1, seq_dim, input_dim).float().to(device)\n",
    "                y = y.long().to(device)\n",
    "                outputs = model(x)\n",
    "                _, predicted = torch.max(outputs.data, 1)\n",
    "                total += y.size(0)\n",
    "                correct += (predicted == y).sum()\n",
    "            accuracy = 100 * correct / total\n",
    "            print('Iteration: {}. Loss: {:.6f}. Accuracy: {}'.format(iter, loss.item(), accuracy))\n",
    "            \n",
    "            '''\n",
    "            if int(accuracy) > max_:\n",
    "                max_ = int(accuracy)\n",
    "                print('max accuracy changed.')\n",
    "                print('Saving model...')\n",
    "                torch.save(model.state_dict(), model_path)\n",
    "            if max == 100:\n",
    "                print('max accuracy approached')\n",
    "                print('Quit learning...')\n",
    "                break\n",
    "            '''"
   ]
  },
  {
   "cell_type": "code",
   "execution_count": null,
   "metadata": {},
   "outputs": [],
   "source": []
  }
 ],
 "metadata": {
  "kernelspec": {
   "display_name": "Python 3",
   "language": "python",
   "name": "python3"
  },
  "language_info": {
   "codemirror_mode": {
    "name": "ipython",
    "version": 3
   },
   "file_extension": ".py",
   "mimetype": "text/x-python",
   "name": "python",
   "nbconvert_exporter": "python",
   "pygments_lexer": "ipython3",
   "version": "3.7.3"
  }
 },
 "nbformat": 4,
 "nbformat_minor": 2
}
